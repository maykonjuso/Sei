{
 "cells": [
  {
   "cell_type": "code",
   "execution_count": 222,
   "id": "f83b12ce-2e82-4f5f-9529-cd3125df3bad",
   "metadata": {},
   "outputs": [],
   "source": [
    "from selenium import webdriver\n",
    "from webdriver_manager.chrome import ChromeDriverManager\n",
    "from selenium.webdriver.chrome.service import Service\n",
    "from selenium.webdriver.common.by import By\n",
    "from selenium.webdriver.support.select import Select\n",
    "from selenium.webdriver.support.wait import WebDriverWait\n",
    "from selenium.webdriver.support import expected_conditions as EC\n",
    "from selenium.webdriver.common.keys import Keys\n",
    "from selenium.webdriver.common.action_chains import ActionChains\n",
    "from dotenv import load_dotenv\n",
    "import os\n"
   ]
  },
  {
   "cell_type": "code",
   "execution_count": 223,
   "id": "b7848cea-5c32-4e70-9843-afebf181224e",
   "metadata": {},
   "outputs": [],
   "source": [
    "service = Service(ChromeDriverManager().install())\n",
    "browser = webdriver.Chrome(service=service)\n",
    "load_dotenv()\n",
    "senha = os.getenv(\"SENHA\")\n",
    "wait = WebDriverWait(browser, 3)\n",
    "\n",
    "browser.get(\n",
    "    \"https://sipe.dpu.def.br/sip/login.php?sigla_orgao_sistema=DPU&sigla_sistema=SEI\")"
   ]
  },
  {
   "cell_type": "code",
   "execution_count": 224,
   "id": "e5c124e0-dae1-4c2a-b973-54e1a5c1cd5f",
   "metadata": {},
   "outputs": [],
   "source": [
    "browser.find_element(By.ID, \"txtUsuario\").send_keys(\"maykon.soares\")\n",
    "browser.find_element(By.ID, \"pwdSenha\").send_keys(senha)\n",
    "Select(browser.find_element(By.ID, \"selOrgao\")).select_by_value(\"8038\")\n",
    "browser.find_element(By.ID, \"Acessar\").click()\n",
    "element = wait.until(EC.element_to_be_clickable(\n",
    "    (By.CLASS_NAME, \"sparkling-modal-close\")))\n",
    "\n",
    "element.click()\n",
    "browser.find_element(By.CLASS_NAME, \"ancoraPadraoPreta\").click()\n"
   ]
  },
  {
   "cell_type": "code",
   "execution_count": 225,
   "id": "eb113d00",
   "metadata": {},
   "outputs": [
    {
     "ename": "NoSuchElementException",
     "evalue": "Message: no such element: Unable to locate element: {\"method\":\"partial link text\",\"selector\":\"Excelentíssim\"}\n  (Session info: chrome=114.0.5735.134); For documentation on this error, please visit: https://www.selenium.dev/documentation/webdriver/troubleshooting/errors#no-such-element-exception\nStacktrace:\nBacktrace:\n\tGetHandleVerifier [0x0069A813+48355]\n\t(No symbol) [0x0062C4B1]\n\t(No symbol) [0x00535358]\n\t(No symbol) [0x005609A5]\n\t(No symbol) [0x00560B3B]\n\t(No symbol) [0x0058E232]\n\t(No symbol) [0x0057A784]\n\t(No symbol) [0x0058C922]\n\t(No symbol) [0x0057A536]\n\t(No symbol) [0x005582DC]\n\t(No symbol) [0x005593DD]\n\tGetHandleVerifier [0x008FAABD+2539405]\n\tGetHandleVerifier [0x0093A78F+2800735]\n\tGetHandleVerifier [0x0093456C+2775612]\n\tGetHandleVerifier [0x007251E0+616112]\n\t(No symbol) [0x00635F8C]\n\t(No symbol) [0x00632328]\n\t(No symbol) [0x0063240B]\n\t(No symbol) [0x00624FF7]\n\tBaseThreadInitThunk [0x76A67D59+25]\n\tRtlInitializeExceptionChain [0x77D4B74B+107]\n\tRtlClearBits [0x77D4B6CF+191]\n",
     "output_type": "error",
     "traceback": [
      "\u001b[1;31m---------------------------------------------------------------------------\u001b[0m",
      "\u001b[1;31mNoSuchElementException\u001b[0m                    Traceback (most recent call last)",
      "Cell \u001b[1;32mIn[225], line 11\u001b[0m\n\u001b[0;32m      2\u001b[0m elements\u001b[39m.\u001b[39mclick()\n\u001b[0;32m      4\u001b[0m ActionChains(browser)\\\n\u001b[0;32m      5\u001b[0m     \u001b[39m.\u001b[39msend_keys(Keys\u001b[39m.\u001b[39mARROW_DOWN)\\\n\u001b[0;32m      6\u001b[0m     \u001b[39m.\u001b[39msend_keys(Keys\u001b[39m.\u001b[39mARROW_DOWN)\\\n\u001b[0;32m      7\u001b[0m     \u001b[39m.\u001b[39msend_keys(Keys\u001b[39m.\u001b[39mARROW_DOWN)\\\n\u001b[0;32m      8\u001b[0m     \u001b[39m.\u001b[39msend_keys(Keys\u001b[39m.\u001b[39mARROW_DOWN)\\\n\u001b[0;32m      9\u001b[0m     \u001b[39m.\u001b[39mperform()\n\u001b[1;32m---> 11\u001b[0m text \u001b[39m=\u001b[39m browser\u001b[39m.\u001b[39;49mfind_element(By\u001b[39m.\u001b[39;49mPARTIAL_LINK_TEXT, \u001b[39m\"\u001b[39;49m\u001b[39mExcelentíssim\u001b[39;49m\u001b[39m\"\u001b[39;49m)\n\u001b[0;32m     12\u001b[0m name \u001b[39m=\u001b[39m text\u001b[39m.\u001b[39mget_attribute(\u001b[39m\"\u001b[39m\u001b[39minnerHTML\u001b[39m\u001b[39m\"\u001b[39m)\n\u001b[0;32m     13\u001b[0m \u001b[39mprint\u001b[39m(name)\n",
      "File \u001b[1;32mc:\\Users\\mayko\\AppData\\Local\\Programs\\Python\\Python311\\Lib\\site-packages\\selenium\\webdriver\\remote\\webdriver.py:740\u001b[0m, in \u001b[0;36mWebDriver.find_element\u001b[1;34m(self, by, value)\u001b[0m\n\u001b[0;32m    737\u001b[0m     by \u001b[39m=\u001b[39m By\u001b[39m.\u001b[39mCSS_SELECTOR\n\u001b[0;32m    738\u001b[0m     value \u001b[39m=\u001b[39m \u001b[39mf\u001b[39m\u001b[39m'\u001b[39m\u001b[39m[name=\u001b[39m\u001b[39m\"\u001b[39m\u001b[39m{\u001b[39;00mvalue\u001b[39m}\u001b[39;00m\u001b[39m\"\u001b[39m\u001b[39m]\u001b[39m\u001b[39m'\u001b[39m\n\u001b[1;32m--> 740\u001b[0m \u001b[39mreturn\u001b[39;00m \u001b[39mself\u001b[39;49m\u001b[39m.\u001b[39;49mexecute(Command\u001b[39m.\u001b[39;49mFIND_ELEMENT, {\u001b[39m\"\u001b[39;49m\u001b[39musing\u001b[39;49m\u001b[39m\"\u001b[39;49m: by, \u001b[39m\"\u001b[39;49m\u001b[39mvalue\u001b[39;49m\u001b[39m\"\u001b[39;49m: value})[\u001b[39m\"\u001b[39m\u001b[39mvalue\u001b[39m\u001b[39m\"\u001b[39m]\n",
      "File \u001b[1;32mc:\\Users\\mayko\\AppData\\Local\\Programs\\Python\\Python311\\Lib\\site-packages\\selenium\\webdriver\\remote\\webdriver.py:346\u001b[0m, in \u001b[0;36mWebDriver.execute\u001b[1;34m(self, driver_command, params)\u001b[0m\n\u001b[0;32m    344\u001b[0m response \u001b[39m=\u001b[39m \u001b[39mself\u001b[39m\u001b[39m.\u001b[39mcommand_executor\u001b[39m.\u001b[39mexecute(driver_command, params)\n\u001b[0;32m    345\u001b[0m \u001b[39mif\u001b[39;00m response:\n\u001b[1;32m--> 346\u001b[0m     \u001b[39mself\u001b[39;49m\u001b[39m.\u001b[39;49merror_handler\u001b[39m.\u001b[39;49mcheck_response(response)\n\u001b[0;32m    347\u001b[0m     response[\u001b[39m\"\u001b[39m\u001b[39mvalue\u001b[39m\u001b[39m\"\u001b[39m] \u001b[39m=\u001b[39m \u001b[39mself\u001b[39m\u001b[39m.\u001b[39m_unwrap_value(response\u001b[39m.\u001b[39mget(\u001b[39m\"\u001b[39m\u001b[39mvalue\u001b[39m\u001b[39m\"\u001b[39m, \u001b[39mNone\u001b[39;00m))\n\u001b[0;32m    348\u001b[0m     \u001b[39mreturn\u001b[39;00m response\n",
      "File \u001b[1;32mc:\\Users\\mayko\\AppData\\Local\\Programs\\Python\\Python311\\Lib\\site-packages\\selenium\\webdriver\\remote\\errorhandler.py:245\u001b[0m, in \u001b[0;36mErrorHandler.check_response\u001b[1;34m(self, response)\u001b[0m\n\u001b[0;32m    243\u001b[0m         alert_text \u001b[39m=\u001b[39m value[\u001b[39m\"\u001b[39m\u001b[39malert\u001b[39m\u001b[39m\"\u001b[39m]\u001b[39m.\u001b[39mget(\u001b[39m\"\u001b[39m\u001b[39mtext\u001b[39m\u001b[39m\"\u001b[39m)\n\u001b[0;32m    244\u001b[0m     \u001b[39mraise\u001b[39;00m exception_class(message, screen, stacktrace, alert_text)  \u001b[39m# type: ignore[call-arg]  # mypy is not smart enough here\u001b[39;00m\n\u001b[1;32m--> 245\u001b[0m \u001b[39mraise\u001b[39;00m exception_class(message, screen, stacktrace)\n",
      "\u001b[1;31mNoSuchElementException\u001b[0m: Message: no such element: Unable to locate element: {\"method\":\"partial link text\",\"selector\":\"Excelentíssim\"}\n  (Session info: chrome=114.0.5735.134); For documentation on this error, please visit: https://www.selenium.dev/documentation/webdriver/troubleshooting/errors#no-such-element-exception\nStacktrace:\nBacktrace:\n\tGetHandleVerifier [0x0069A813+48355]\n\t(No symbol) [0x0062C4B1]\n\t(No symbol) [0x00535358]\n\t(No symbol) [0x005609A5]\n\t(No symbol) [0x00560B3B]\n\t(No symbol) [0x0058E232]\n\t(No symbol) [0x0057A784]\n\t(No symbol) [0x0058C922]\n\t(No symbol) [0x0057A536]\n\t(No symbol) [0x005582DC]\n\t(No symbol) [0x005593DD]\n\tGetHandleVerifier [0x008FAABD+2539405]\n\tGetHandleVerifier [0x0093A78F+2800735]\n\tGetHandleVerifier [0x0093456C+2775612]\n\tGetHandleVerifier [0x007251E0+616112]\n\t(No symbol) [0x00635F8C]\n\t(No symbol) [0x00632328]\n\t(No symbol) [0x0063240B]\n\t(No symbol) [0x00624FF7]\n\tBaseThreadInitThunk [0x76A67D59+25]\n\tRtlInitializeExceptionChain [0x77D4B74B+107]\n\tRtlClearBits [0x77D4B6CF+191]\n"
     ]
    }
   ],
   "source": [
    "\n",
    "elements = browser.find_element(By.CLASS_NAME, \"processoVisualizado\")\n",
    "elements.click()\n",
    "\n",
    "ActionChains(browser)\\\n",
    "    .send_keys(Keys.ARROW_DOWN)\\\n",
    "    .send_keys(Keys.ARROW_DOWN)\\\n",
    "    .send_keys(Keys.ARROW_DOWN)\\\n",
    "    .send_keys(Keys.ARROW_DOWN)\\\n",
    "    .perform()\n",
    "\n",
    "text = browser.find_element(By.PARTIAL_LINK_TEXT, \"Excelentíssim\")\n",
    "name = text.get_attribute(\"innerHTML\")\n",
    "print(name)\n"
   ]
  }
 ],
 "metadata": {
  "kernelspec": {
   "display_name": "Python 3 (ipykernel)",
   "language": "python",
   "name": "python3"
  },
  "language_info": {
   "codemirror_mode": {
    "name": "ipython",
    "version": 3
   },
   "file_extension": ".py",
   "mimetype": "text/x-python",
   "name": "python",
   "nbconvert_exporter": "python",
   "pygments_lexer": "ipython3",
   "version": "3.11.2"
  }
 },
 "nbformat": 4,
 "nbformat_minor": 5
}
