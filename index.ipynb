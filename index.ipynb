{
 "cells": [
  {
   "cell_type": "code",
   "execution_count": 121,
   "id": "f83b12ce-2e82-4f5f-9529-cd3125df3bad",
   "metadata": {},
   "outputs": [],
   "source": [
    "from selenium import webdriver\n",
    "from webdriver_manager.chrome import ChromeDriverManager\n",
    "from selenium.webdriver.chrome.service import Service\n",
    "from selenium.webdriver.common.by import By\n",
    "from selenium.webdriver.support.select import Select\n",
    "from selenium.webdriver.support.wait import WebDriverWait\n",
    "from selenium.webdriver.support import expected_conditions as EC\n",
    "from selenium.webdriver.common.keys import Keys\n",
    "from selenium.webdriver.common.action_chains import ActionChains\n",
    "from dotenv import load_dotenv\n",
    "import os\n"
   ]
  },
  {
   "cell_type": "code",
   "execution_count": 122,
   "id": "b7848cea-5c32-4e70-9843-afebf181224e",
   "metadata": {},
   "outputs": [],
   "source": [
    "service = Service(ChromeDriverManager().install())\n",
    "browser = webdriver.Chrome(service=service)\n",
    "load_dotenv()\n",
    "browser.maximize_window()\n",
    "senha = os.getenv(\"SENHA\")\n",
    "wait = WebDriverWait(browser, 3)\n",
    "\n",
    "browser.get(\n",
    "    \"https://sipe.dpu.def.br/sip/login.php?sigla_orgao_sistema=DPU&sigla_sistema=SEI\")"
   ]
  },
  {
   "cell_type": "code",
   "execution_count": 123,
   "id": "e5c124e0-dae1-4c2a-b973-54e1a5c1cd5f",
   "metadata": {},
   "outputs": [],
   "source": [
    "browser.find_element(By.ID, \"txtUsuario\").send_keys(\"maykon.soares\")\n",
    "browser.find_element(By.ID, \"pwdSenha\").send_keys(senha)\n",
    "Select(browser.find_element(By.ID, \"selOrgao\")).select_by_value(\"8038\")\n",
    "browser.find_element(By.ID, \"Acessar\").click()\n",
    "element = wait.until(EC.element_to_be_clickable(\n",
    "    (By.CLASS_NAME, \"sparkling-modal-close\")))\n",
    "\n",
    "element.click()\n",
    "browser.find_element(By.CLASS_NAME, \"ancoraPadraoPreta\").click()\n"
   ]
  },
  {
   "cell_type": "code",
   "execution_count": 124,
   "id": "eb113d00",
   "metadata": {},
   "outputs": [
    {
     "ename": "TypeError",
     "evalue": "'WebElement' object is not iterable",
     "output_type": "error",
     "traceback": [
      "\u001b[0;31m---------------------------------------------------------------------------\u001b[0m",
      "\u001b[0;31mTypeError\u001b[0m                                 Traceback (most recent call last)",
      "Cell \u001b[0;32mIn[124], line 4\u001b[0m\n\u001b[1;32m      1\u001b[0m elements \u001b[39m=\u001b[39m browser\u001b[39m.\u001b[39mfind_elements(By\u001b[39m.\u001b[39mCLASS_NAME, \u001b[39m\"\u001b[39m\u001b[39mprocessoVisualizado\u001b[39m\u001b[39m\"\u001b[39m)\n\u001b[1;32m      2\u001b[0m tags \u001b[39m=\u001b[39m browser\u001b[39m.\u001b[39mfind_element(By\u001b[39m.\u001b[39mCLASS_NAME, \u001b[39m\"\u001b[39m\u001b[39mimagemStatus\u001b[39m\u001b[39m\"\u001b[39m)\n\u001b[0;32m----> 4\u001b[0m \u001b[39mfor\u001b[39;00m element, tag \u001b[39min\u001b[39;00m \u001b[39mzip\u001b[39;49m(elements, tags):\n\u001b[1;32m      5\u001b[0m     element\u001b[39m.\u001b[39msend_keys(Keys\u001b[39m.\u001b[39mCONTROL \u001b[39m+\u001b[39m Keys\u001b[39m.\u001b[39mRETURN)\n\u001b[1;32m      6\u001b[0m     janelas \u001b[39m=\u001b[39m browser\u001b[39m.\u001b[39mwindow_handles\n",
      "\u001b[0;31mTypeError\u001b[0m: 'WebElement' object is not iterable"
     ]
    }
   ],
   "source": [
    "\n",
    "elements = browser.find_elements(By.CLASS_NAME, \"processoVisualizado\")\n",
    "tags = browser.find_element(By.CLASS_NAME, \"imagemStatus\")\n",
    "\n",
    "for element, tag in zip(elements, tags):\n",
    "    element.send_keys(Keys.CONTROL + Keys.RETURN)\n",
    "    janelas = browser.window_handles\n",
    "    browser.switch_to.window(janelas[1]) \n",
    "\n",
    "    ActionChains(browser)\\\n",
    "        .send_keys(Keys.ARROW_DOWN)\\\n",
    "        .send_keys(Keys.ARROW_DOWN)\\\n",
    "        .send_keys(Keys.ARROW_DOWN)\\\n",
    "        .send_keys(Keys.ARROW_DOWN)\\\n",
    "        .perform()\n",
    "\n",
    "    iframe = wait.until(EC.presence_of_element_located((By.ID, \"ifrVisualizacao\")))\n",
    "    browser.switch_to.frame(iframe)\n",
    "\n",
    "    iframe = wait.until(EC.presence_of_element_located((By.ID, \"ifrArvoreHtml\")))\n",
    "    browser.switch_to.frame(iframe)\n",
    "\n",
    "\n",
    "    value = browser.find_element(By.CLASS_NAME, \"Texto_Justificado_Recuo_Primeira_Linha\")\n",
    "    text_content = value.text\n",
    "\n",
    "    parts = text_content.split(\", \", 1)\n",
    "\n",
    "    if len(parts) > 1:\n",
    "        result = parts[1]\n",
    "    else:\n",
    "        result = \"\"\n",
    "        \n",
    "        \n",
    "    print(result)\n",
    "\n",
    "    browser.switch_to.default_content()\n",
    "\n",
    "    browser.find_element(By.ID, \"lnkControleProcessos\").click()\n",
    "    tag.click()\n",
    "\n",
    "    browser.find_element(By.CLASS_NAME, \"imagemStatus\").click()\n",
    "\n",
    "\n",
    "    ActionChains(browser)\\\n",
    "        .send_keys(result)\\\n",
    "        .send_keys(Keys.ENTER)\\\n",
    "        .perform()\n",
    "\n",
    "    browser.find_element(By.NAME, \"sbmRegistrarAnotacao\").click()\n",
    "    browser.close()\n",
    "    browser.switch_to.window(janelas[0]) \n",
    "\n",
    "\n",
    "\n"
   ]
  }
 ],
 "metadata": {
  "kernelspec": {
   "display_name": "Python 3 (ipykernel)",
   "language": "python",
   "name": "python3"
  },
  "language_info": {
   "codemirror_mode": {
    "name": "ipython",
    "version": 3
   },
   "file_extension": ".py",
   "mimetype": "text/x-python",
   "name": "python",
   "nbconvert_exporter": "python",
   "pygments_lexer": "ipython3",
   "version": "3.10.6"
  }
 },
 "nbformat": 4,
 "nbformat_minor": 5
}
